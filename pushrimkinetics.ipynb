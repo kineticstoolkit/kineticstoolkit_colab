{
  "nbformat": 4,
  "nbformat_minor": 0,
  "metadata": {
    "colab": {
      "provenance": [],
      "authorship_tag": "ABX9TyOE/2ERmV8+eJXMspByNAoA",
      "include_colab_link": true
    },
    "kernelspec": {
      "name": "python3",
      "display_name": "Python 3"
    },
    "language_info": {
      "name": "python"
    }
  },
  "cells": [
    {
      "cell_type": "markdown",
      "metadata": {
        "id": "view-in-github",
        "colab_type": "text"
      },
      "source": [
        "<a href=\"https://colab.research.google.com/github/kineticstoolkit/kineticstoolkit_colab/blob/main/pushrimkinetics.ipynb\" target=\"_parent\"><img src=\"https://colab.research.google.com/assets/colab-badge.svg\" alt=\"Open In Colab\"/></a>"
      ]
    },
    {
      "cell_type": "markdown",
      "source": [
        "# Processing data from an instrumented wheelchair wheel\n",
        "\n",
        "An extension to Kinetics Toolkit, available [here](https://github.com/kineticstoolkit/kineticstoolkit_pushrimkinetics), allows reading and processing kinetics recorded by instrumented wheelchair wheels such as SmartWheel. Here is a short demonstration of this extension."
      ],
      "metadata": {
        "id": "ElxMV_dfvkl9"
      }
    },
    {
      "cell_type": "code",
      "execution_count": null,
      "metadata": {
        "id": "lQ4e9kJjuuY_"
      },
      "outputs": [],
      "source": []
    },
    {
      "cell_type": "code",
      "source": [],
      "metadata": {
        "id": "fCC7U6FVwKFa"
      },
      "execution_count": null,
      "outputs": []
    }
  ]
}